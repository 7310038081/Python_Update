{
 "cells": [
  {
   "cell_type": "markdown",
   "id": "e746cad4-ef8e-4afa-a841-d43ab61f41ec",
   "metadata": {},
   "source": [
    "# Python Number Methods"
   ]
  },
  {
   "cell_type": "markdown",
   "id": "7a474e4b-7f37-4255-8c98-51c4e8db43b1",
   "metadata": {},
   "source": [
    "##  1.abs()"
   ]
  },
  {
   "cell_type": "code",
   "execution_count": 14,
   "id": "b7d62293-fdbe-4f8e-976a-93c9ea5fa24c",
   "metadata": {},
   "outputs": [
    {
     "name": "stdout",
     "output_type": "stream",
     "text": [
      "22\n",
      "12\n",
      "13.02\n",
      "89.98\n"
     ]
    }
   ],
   "source": [
    "a = 22\n",
    "b = -12\n",
    "c = 13.02\n",
    "d = -89.98\n",
    "\n",
    "print(abs(a))\n",
    "print(abs(b))\n",
    "print(abs(c))\n",
    "print(abs(d))\n"
   ]
  },
  {
   "cell_type": "markdown",
   "id": "b5b8d0be-5ab4-4755-bcf7-529ae9dac43a",
   "metadata": {},
   "source": [
    "## 2.ceils()"
   ]
  },
  {
   "cell_type": "code",
   "execution_count": 12,
   "id": "1e2ef660-b363-4b20-b979-163944268ce6",
   "metadata": {},
   "outputs": [
    {
     "name": "stdout",
     "output_type": "stream",
     "text": [
      "34\n",
      "34\n",
      "34\n",
      "-55\n"
     ]
    }
   ],
   "source": [
    "import math\n",
    "a = 33.1\n",
    "b = 33.3\n",
    "c = 33.7\n",
    "d = -55.6\n",
    "\n",
    "print(math.ceil(a))\n",
    "print(math.ceil(b))\n",
    "print(math.ceil(c))\n",
    "print(math.ceil(d))"
   ]
  },
  {
   "cell_type": "markdown",
   "id": "be8cde1b-a2c4-42a3-8e0f-fa0ee99663cf",
   "metadata": {},
   "source": [
    "## 3.floor()"
   ]
  },
  {
   "cell_type": "code",
   "execution_count": 17,
   "id": "c3fe29aa-aa77-4728-b2fe-1d7d4285f753",
   "metadata": {},
   "outputs": [
    {
     "name": "stdout",
     "output_type": "stream",
     "text": [
      "43\n",
      "43\n",
      "-57\n"
     ]
    }
   ],
   "source": [
    "a = 43.1\n",
    "b = 43.2\n",
    "c = -56.7\n",
    "\n",
    "print(math.floor(a))\n",
    "print(math.floor(b))\n",
    "print(math.floor(c))"
   ]
  },
  {
   "cell_type": "markdown",
   "id": "fd766a5b-ded7-4201-afc3-4ec1e146360e",
   "metadata": {},
   "source": [
    "## 4.exp()"
   ]
  },
  {
   "cell_type": "code",
   "execution_count": 26,
   "id": "4ea95c04-1d3c-4eb6-9fb4-f4705b2097a8",
   "metadata": {},
   "outputs": [
    {
     "name": "stdout",
     "output_type": "stream",
     "text": [
      "22026.465794806718\n",
      "0.006737946999085467\n"
     ]
    }
   ],
   "source": [
    "a = 10\n",
    "\n",
    "print(math.exp(a))\n",
    "\n",
    "b = -5\n",
    "\n",
    "print(math.exp(b))"
   ]
  },
  {
   "cell_type": "markdown",
   "id": "eaf3c615-8cc2-4e9a-ab41-8d12dd1d1d40",
   "metadata": {},
   "source": [
    "## 5.fabs()"
   ]
  },
  {
   "cell_type": "code",
   "execution_count": 29,
   "id": "30deb3b8-9e24-4786-92c1-f73efc87e509",
   "metadata": {},
   "outputs": [
    {
     "name": "stdout",
     "output_type": "stream",
     "text": [
      "10.5\n",
      "17.5\n",
      "10.0\n"
     ]
    }
   ],
   "source": [
    "a = 10.5 \n",
    "b = 17.5\n",
    "c = -10\n",
    "\n",
    "print(math.fabs(a))\n",
    "print(math.fabs(b))\n",
    "print(math.fabs(c))"
   ]
  },
  {
   "cell_type": "markdown",
   "id": "aa2b7a59-faa9-4463-8a28-f15a370a3cf7",
   "metadata": {},
   "source": [
    "## 6.log()"
   ]
  },
  {
   "cell_type": "code",
   "execution_count": 34,
   "id": "f0d40e05-22f1-4dd0-9e76-2400539e86d2",
   "metadata": {},
   "outputs": [
    {
     "name": "stdout",
     "output_type": "stream",
     "text": [
      "2.302585092994046\n",
      "1.0\n"
     ]
    }
   ],
   "source": [
    "print(math.log(10))\n",
    "print(math.log10(10))"
   ]
  },
  {
   "cell_type": "markdown",
   "id": "7c260d60-8972-4a24-98ce-e3d888a2c92d",
   "metadata": {},
   "source": [
    "## 7.Max()"
   ]
  },
  {
   "cell_type": "code",
   "execution_count": 41,
   "id": "9263602a-72ae-49bb-9d86-f08f2931440e",
   "metadata": {},
   "outputs": [
    {
     "data": {
      "text/plain": [
       "8"
      ]
     },
     "execution_count": 41,
     "metadata": {},
     "output_type": "execute_result"
    }
   ],
   "source": [
    "max(1,2,3,4,5,6,7,8)\n"
   ]
  },
  {
   "cell_type": "markdown",
   "id": "b93df8a9-510a-47b2-aee5-d003aad2c55b",
   "metadata": {},
   "source": [
    "## 8.Min()"
   ]
  },
  {
   "cell_type": "code",
   "execution_count": 44,
   "id": "23fc37f6-fc4e-4d19-a3c3-706d8ca3b6d1",
   "metadata": {},
   "outputs": [
    {
     "data": {
      "text/plain": [
       "-2"
      ]
     },
     "execution_count": 44,
     "metadata": {},
     "output_type": "execute_result"
    }
   ],
   "source": [
    "min(0,1,2,4,-1,-2)\n"
   ]
  },
  {
   "cell_type": "markdown",
   "id": "a90e3b53-680c-4406-8a7a-d6644e57a624",
   "metadata": {},
   "source": [
    "## 9.Pow()"
   ]
  },
  {
   "cell_type": "code",
   "execution_count": 49,
   "id": "4ea20b74-74d0-4135-b6a3-e839c2e59e8c",
   "metadata": {},
   "outputs": [
    {
     "name": "stdout",
     "output_type": "stream",
     "text": [
      "32.0\n",
      "1024.0\n"
     ]
    }
   ],
   "source": [
    "print(math.pow(2,5))\n",
    "print(math.pow(2,10))"
   ]
  },
  {
   "cell_type": "markdown",
   "id": "30a86f7d-a754-40d7-9d06-78a1edc59c02",
   "metadata": {},
   "source": [
    "## 10.Sqrt()"
   ]
  },
  {
   "cell_type": "code",
   "execution_count": 56,
   "id": "2a27bf37-e40f-488b-b1df-3ea802240ec0",
   "metadata": {},
   "outputs": [
    {
     "name": "stdout",
     "output_type": "stream",
     "text": [
      "4.0\n",
      "5.0\n"
     ]
    }
   ],
   "source": [
    "print(math.sqrt(16))\n",
    "print(math.sqrt(25))\n",
    "# print(math.sqrt(-10))"
   ]
  },
  {
   "cell_type": "markdown",
   "id": "7a09c5a5-cec9-4cfc-8cea-3e594a9d1593",
   "metadata": {},
   "source": [
    "## 11.Sin()\n"
   ]
  },
  {
   "cell_type": "code",
   "execution_count": 59,
   "id": "bbff2a19-00f4-4192-9096-8f32dd26ed0f",
   "metadata": {},
   "outputs": [
    {
     "name": "stdout",
     "output_type": "stream",
     "text": [
      "0.0\n",
      "0.8939966636005579\n",
      "-0.9938886539233752\n"
     ]
    }
   ],
   "source": [
    "print(math.sin(0))\n",
    "print(math.sin(90))\n",
    "print(math.sin(80))"
   ]
  },
  {
   "cell_type": "markdown",
   "id": "8be4e3b1-3314-428e-ab6f-9d078cd060f3",
   "metadata": {},
   "source": [
    "## 12.Cos()"
   ]
  },
  {
   "cell_type": "code",
   "execution_count": 62,
   "id": "4e0171f5-de24-4d02-9389-cf16ed745cfc",
   "metadata": {},
   "outputs": [
    {
     "name": "stdout",
     "output_type": "stream",
     "text": [
      "1.0\n",
      "-0.4480736161291701\n",
      "-0.11038724383904756\n"
     ]
    }
   ],
   "source": [
    "print(math.cos(0))\n",
    "print(math.cos(90))\n",
    "print(math.cos(80))"
   ]
  },
  {
   "cell_type": "markdown",
   "id": "02d03b5d-b640-45c9-89e4-c1f07f28fedb",
   "metadata": {},
   "source": [
    "## 13.Tan()"
   ]
  },
  {
   "cell_type": "code",
   "execution_count": 65,
   "id": "9e99e6ff-8ae4-4c63-b69b-e4217401dd45",
   "metadata": {},
   "outputs": [
    {
     "name": "stdout",
     "output_type": "stream",
     "text": [
      "0.0\n",
      "-1.995200412208242\n",
      "9.00365494560708\n"
     ]
    }
   ],
   "source": [
    "print(math.tan(0))\n",
    "print(math.tan(90))\n",
    "print(math.tan(80))"
   ]
  },
  {
   "cell_type": "markdown",
   "id": "0c08ea35-350c-4a03-9b7f-76f5e2605e03",
   "metadata": {},
   "source": [
    "## 14.Hypot()"
   ]
  },
  {
   "cell_type": "code",
   "execution_count": 70,
   "id": "d39797bb-0dc6-47ee-9f9e-e5d73cbdd8a0",
   "metadata": {},
   "outputs": [
    {
     "name": "stdout",
     "output_type": "stream",
     "text": [
      "3.605551275463989\n",
      "5.0\n"
     ]
    }
   ],
   "source": [
    "print(math.hypot(2,3))\n",
    "print(math.hypot(3,4))"
   ]
  },
  {
   "cell_type": "markdown",
   "id": "36feddb0-ac60-4dc5-80bc-d594f6b9856e",
   "metadata": {},
   "source": [
    "## Assignment"
   ]
  },
  {
   "cell_type": "markdown",
   "id": "5d1a6f27-29fd-4a6d-a5d2-430475779244",
   "metadata": {},
   "source": [
    "## Question1. What is modf and why it is used?"
   ]
  },
  {
   "cell_type": "code",
   "execution_count": 78,
   "id": "ccda6de7-f139-46cb-a4b9-300e317119cb",
   "metadata": {},
   "outputs": [
    {
     "name": "stdout",
     "output_type": "stream",
     "text": [
      "(0.2345000000000006, 11.0)\n",
      "The first one is the fractional part and the second is the integer part\n"
     ]
    }
   ],
   "source": [
    "#modf function is used to break the floating point number into the fractional part and integer part and return a tuple of (fractional_part,integer_part)\n",
    "print(math.modf(11.2345))\n",
    "print(\"The first one is the fractional part and the second is the integer part\")"
   ]
  },
  {
   "cell_type": "markdown",
   "id": "4ebff823-df70-4352-9634-f640d9156bae",
   "metadata": {},
   "source": [
    "## Question2. Program to check the prime number?"
   ]
  },
  {
   "cell_type": "code",
   "execution_count": 109,
   "id": "4fcf4330-1f97-42ec-951f-eaee92b2cddf",
   "metadata": {},
   "outputs": [
    {
     "name": "stdin",
     "output_type": "stream",
     "text": [
      "Enter the number 11\n"
     ]
    },
    {
     "name": "stdout",
     "output_type": "stream",
     "text": [
      "The 11 is prime number\n"
     ]
    }
   ],
   "source": [
    "number = int(input(\"Enter the number\"))\n",
    "\n",
    "if(number<=1):\n",
    "    print(\"Number is not prime\")\n",
    "   \n",
    "elif(number==2):\n",
    "    print(\"It is a prime number\")\n",
    "\n",
    "else:\n",
    "    for i in range(2,number):\n",
    "        if(number%i==0):\n",
    "            print(\"Not A Prime Number\")\n",
    "            break\n",
    "    else:\n",
    "         print(f\"The {number} is prime number\")\n",
    "    "
   ]
  },
  {
   "cell_type": "markdown",
   "id": "6af31a3f-25a7-4dc0-93e4-a5c46254f7df",
   "metadata": {},
   "source": [
    "## Question3.Program to check max of three numbers"
   ]
  },
  {
   "cell_type": "code",
   "execution_count": 114,
   "id": "7276ceb5-d231-4dd2-8a38-37ba407134ec",
   "metadata": {},
   "outputs": [
    {
     "name": "stdin",
     "output_type": "stream",
     "text": [
      "Enter the first number 19\n",
      "Enter the second number 34\n",
      "Enter the third number 22\n"
     ]
    },
    {
     "name": "stdout",
     "output_type": "stream",
     "text": [
      "The maximum number is 34\n"
     ]
    }
   ],
   "source": [
    "a = int(input(\"Enter the first number\"))\n",
    "b = int(input(\"Enter the second number\"))\n",
    "c = int(input(\"Enter the third number\"))\n",
    "\n",
    "import math\n",
    "\n",
    "maximum = max(a,b,c)\n",
    "print(f\"The maximum number is {maximum}\")"
   ]
  }
 ],
 "metadata": {
  "kernelspec": {
   "display_name": "Python [conda env:base] *",
   "language": "python",
   "name": "conda-base-py"
  },
  "language_info": {
   "codemirror_mode": {
    "name": "ipython",
    "version": 3
   },
   "file_extension": ".py",
   "mimetype": "text/x-python",
   "name": "python",
   "nbconvert_exporter": "python",
   "pygments_lexer": "ipython3",
   "version": "3.12.7"
  }
 },
 "nbformat": 4,
 "nbformat_minor": 5
}
