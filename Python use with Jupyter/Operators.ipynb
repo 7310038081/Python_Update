{
 "cells": [
  {
   "cell_type": "markdown",
   "id": "0a521e17-04a2-4540-8a34-cccdb5268a0f",
   "metadata": {},
   "source": [
    "# Equality Opertors (is)"
   ]
  },
  {
   "cell_type": "code",
   "execution_count": 12,
   "id": "e3928aaa-a798-40db-90f9-4c5f1c07d2ec",
   "metadata": {},
   "outputs": [
    {
     "name": "stdout",
     "output_type": "stream",
     "text": [
      "2173568357248\n",
      "2173568357248\n",
      "True\n"
     ]
    }
   ],
   "source": [
    "a = \"Vivek\"\n",
    "b = \"Vivek\"\n",
    "c = \"Vivek\"\n",
    "\n",
    "print(id(a))\n",
    "print(id(b))\n",
    "\n",
    "print(a is c)"
   ]
  },
  {
   "cell_type": "markdown",
   "id": "20632991-697b-4dbb-a9b1-b891839c8336",
   "metadata": {},
   "source": [
    "# Equality Opertor (is not)"
   ]
  },
  {
   "cell_type": "code",
   "execution_count": 17,
   "id": "f55dc974-d3f1-4d28-8d85-9cbb7ff65682",
   "metadata": {},
   "outputs": [
    {
     "name": "stdout",
     "output_type": "stream",
     "text": [
      "2173600336704\n",
      "2173600336704\n",
      "2173568357248\n",
      "True\n",
      "False\n",
      "True\n",
      "2173614638272\n",
      "2173614535616\n",
      "True\n",
      "False\n"
     ]
    }
   ],
   "source": [
    "a = \"singh\"\n",
    "b = \"singh\"\n",
    "c = \"Vivek\"\n",
    "\n",
    "print(id(a))\n",
    "print(id(b))\n",
    "print(id(c))\n",
    "\n",
    "print(a is b)\n",
    "print(a is c)\n",
    "print(a is not c)\n",
    "\n",
    "\n",
    "lst = [1,2,3]  # For collection items id is differnet\n",
    "lst1 = [1,2,3]\n",
    "\n",
    "print(id(lst))\n",
    "print(id(lst1))\n",
    "\n",
    "print(lst == lst1)\n",
    "print(lst is lst1)"
   ]
  },
  {
   "cell_type": "code",
   "execution_count": null,
   "id": "de51b0f1-de87-4510-9a8e-ba4ea7b51b8f",
   "metadata": {},
   "outputs": [],
   "source": []
  }
 ],
 "metadata": {
  "kernelspec": {
   "display_name": "Python [conda env:base] *",
   "language": "python",
   "name": "conda-base-py"
  },
  "language_info": {
   "codemirror_mode": {
    "name": "ipython",
    "version": 3
   },
   "file_extension": ".py",
   "mimetype": "text/x-python",
   "name": "python",
   "nbconvert_exporter": "python",
   "pygments_lexer": "ipython3",
   "version": "3.12.7"
  }
 },
 "nbformat": 4,
 "nbformat_minor": 5
}
