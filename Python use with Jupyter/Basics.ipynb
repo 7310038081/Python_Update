{
 "cells": [
  {
   "cell_type": "markdown",
   "id": "03edbdd9-7a0c-4dc5-af79-417e2736d4d4",
   "metadata": {},
   "source": [
    "# Basics Of Python"
   ]
  },
  {
   "cell_type": "code",
   "execution_count": 4,
   "id": "ce00dcba-0875-458c-bb06-0890e5b88e65",
   "metadata": {},
   "outputs": [],
   "source": [
    "# 1. Integer"
   ]
  },
  {
   "cell_type": "code",
   "execution_count": 16,
   "id": "bfa2674e-1f1d-4e9e-8ced-ed1739a787da",
   "metadata": {},
   "outputs": [
    {
     "name": "stdout",
     "output_type": "stream",
     "text": [
      "10\n",
      "<class 'int'>\n"
     ]
    }
   ],
   "source": [
    "a = 10\n",
    "print(a)\n",
    "print(type(a))"
   ]
  },
  {
   "cell_type": "code",
   "execution_count": 18,
   "id": "814a39d5-d2e7-458d-a062-5989f784b5b7",
   "metadata": {},
   "outputs": [
    {
     "name": "stdout",
     "output_type": "stream",
     "text": [
      "10.0\n"
     ]
    }
   ],
   "source": [
    "## Typecasting\n",
    "print(float(a))\n"
   ]
  },
  {
   "cell_type": "code",
   "execution_count": 2,
   "id": "d6445581-596e-41c4-ae0b-6c927ee4b976",
   "metadata": {},
   "outputs": [
    {
     "name": "stdout",
     "output_type": "stream",
     "text": [
      "vivek\n",
      "11\n"
     ]
    }
   ],
   "source": [
    "#Dynamic Typing\n",
    "a = 10\n",
    "a = \"vivek\"\n",
    "\n",
    "print(a)\n",
    "\n",
    "b = \"singh\"\n",
    "b = 11\n",
    "\n",
    "print(b)"
   ]
  },
  {
   "cell_type": "code",
   "execution_count": 26,
   "id": "84d66cfa-4ea8-47ba-9899-735e720ddb32",
   "metadata": {},
   "outputs": [],
   "source": [
    "# Strong Typing \n",
    "#in that both the variables have the same datatype\n",
    "# a = \"vivek\"\n",
    "# b = 1 \n",
    "# c = a + b (it throws the error) this is strong typing \n",
    "# if we do operation on this is throws the eroor so both the variable have the same datatype"
   ]
  },
  {
   "cell_type": "code",
   "execution_count": 3,
   "id": "a8679cd3-5339-4251-905a-58bc20d9bf49",
   "metadata": {},
   "outputs": [
    {
     "name": "stdout",
     "output_type": "stream",
     "text": [
      "The First Name is vivek and the last name is singh .\n"
     ]
    }
   ],
   "source": [
    "#String Formatting \n",
    "''' we can do the string formatting in two ways first is .format method and second is fstring method'''\n",
    "#First method with the use of .format method\n",
    "first_name = \"vivek\"\n",
    "last_name = \"singh\"\n",
    "\n",
    "full_name = (\"The First Name is {} and the last name is {} .\".format(first_name,last_name))\n",
    "print(full_name)"
   ]
  },
  {
   "cell_type": "code",
   "execution_count": 40,
   "id": "fe7e229c-5d3e-4f1a-84a0-6899a75f7312",
   "metadata": {},
   "outputs": [
    {
     "name": "stdout",
     "output_type": "stream",
     "text": [
      "The first name is vivek and the last name is singh.\n"
     ]
    }
   ],
   "source": [
    "# Second Method is Fstring method\n",
    "\n",
    "first_name = \"vivek\"\n",
    "last_name = \"singh\"\n",
    "\n",
    "full_name = (f\"The first name is {first_name} and the last name is {last_name}.\")\n",
    "print(full_name)"
   ]
  },
  {
   "cell_type": "code",
   "execution_count": null,
   "id": "7da94676-1ed2-43ad-a86d-ea912f157c00",
   "metadata": {},
   "outputs": [],
   "source": []
  }
 ],
 "metadata": {
  "kernelspec": {
   "display_name": "env",
   "language": "python",
   "name": "python3"
  },
  "language_info": {
   "codemirror_mode": {
    "name": "ipython",
    "version": 3
   },
   "file_extension": ".py",
   "mimetype": "text/x-python",
   "name": "python",
   "nbconvert_exporter": "python",
   "pygments_lexer": "ipython3",
   "version": "3.13.1"
  }
 },
 "nbformat": 4,
 "nbformat_minor": 5
}
